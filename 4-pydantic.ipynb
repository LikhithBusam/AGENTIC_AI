{
 "cells": [
  {
   "cell_type": "code",
   "execution_count": 13,
   "id": "057fb7e4",
   "metadata": {},
   "outputs": [],
   "source": [
    "from langgraph.graph import StateGraph,START,END\n",
    "from pydantic import BaseModel"
   ]
  },
  {
   "cell_type": "code",
   "execution_count": 14,
   "id": "37ff138a",
   "metadata": {},
   "outputs": [],
   "source": [
    "class State(BaseModel):\n",
    "    name:str\n",
    "    \n"
   ]
  },
  {
   "cell_type": "code",
   "execution_count": 18,
   "id": "2267f0d1",
   "metadata": {},
   "outputs": [],
   "source": [
    "## node function\n",
    "def example_node(state:State):\n",
    "    return {\"name\":\"hello\"}"
   ]
  },
  {
   "cell_type": "code",
   "execution_count": 19,
   "id": "cff87682",
   "metadata": {},
   "outputs": [],
   "source": [
    "## stateGraph\n",
    "builder=StateGraph(State)\n",
    "builder.add_node(\"example_node\",example_node)\n",
    "\n",
    "builder.add_edge(START,\"example_node\")\n",
    "builder.add_edge(\"example_node\",END)\n",
    "\n",
    "graph=builder.compile()"
   ]
  },
  {
   "cell_type": "code",
   "execution_count": 20,
   "id": "cdca4b90",
   "metadata": {},
   "outputs": [
    {
     "data": {
      "text/plain": [
       "{'name': 'hello'}"
      ]
     },
     "execution_count": 20,
     "metadata": {},
     "output_type": "execute_result"
    }
   ],
   "source": [
    "graph.invoke({\"name\":\"likhith\"})"
   ]
  },
  {
   "cell_type": "code",
   "execution_count": null,
   "id": "5d242d8d",
   "metadata": {},
   "outputs": [],
   "source": []
  },
  {
   "cell_type": "code",
   "execution_count": null,
   "id": "66547c09",
   "metadata": {},
   "outputs": [],
   "source": []
  }
 ],
 "metadata": {
  "kernelspec": {
   "display_name": "Python 3",
   "language": "python",
   "name": "python3"
  },
  "language_info": {
   "codemirror_mode": {
    "name": "ipython",
    "version": 3
   },
   "file_extension": ".py",
   "mimetype": "text/x-python",
   "name": "python",
   "nbconvert_exporter": "python",
   "pygments_lexer": "ipython3",
   "version": "3.12.4"
  }
 },
 "nbformat": 4,
 "nbformat_minor": 5
}
