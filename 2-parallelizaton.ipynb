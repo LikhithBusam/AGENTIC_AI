{
 "cells": [
  {
   "cell_type": "markdown",
   "id": "7f20f351",
   "metadata": {},
   "source": [
    "#### What is Parallelization in LangGraph?\n",
    "In LangGraph, nodes typically execute in a sequence defined by edges, but when tasks don’t depend on each other’s outputs, you can run them in parallel. This is achieved by:\n",
    "- Defining multiple nodes that can operate independently.\n",
    "\n",
    "- Connecting them to a common starting point (e.g., START or another node).\n",
    "\n",
    "- Merging their outputs into a downstream node if needed.\n",
    "\n",
    "LangGraph handles this implicitly when nodes are independent and can leverage multi-threading or asynchronous execution under the hood, depending on the runtime environment (e.g., Python’s asyncio or a multi-threaded executor).\n",
    "\n"
   ]
  },
  {
   "cell_type": "code",
   "execution_count": 1,
   "id": "a6e0b41d",
   "metadata": {},
   "outputs": [
    {
     "data": {
      "text/plain": [
       "AIMessage(content='\\n<think>\\nOkay, the user said \"Hello\". I need to respond politely. Let me think of a friendly greeting. Maybe \"Hello! How can I assist you today?\" That sounds good. I should make sure to keep it simple and open-ended so they feel comfortable asking for help. Yeah, that\\'s a solid response.\\n</think>\\n\\nHello! How can I assist you today?', additional_kwargs={}, response_metadata={'token_usage': {'completion_tokens': 76, 'prompt_tokens': 11, 'total_tokens': 87, 'completion_time': 0.1863456, 'prompt_time': 0.002917555, 'queue_time': 0.256865623, 'total_time': 0.189263155}, 'model_name': 'qwen-qwq-32b', 'system_fingerprint': 'fp_98b01f25b2', 'finish_reason': 'stop', 'logprobs': None}, id='run--f2f4e01b-19f1-42cd-a1c9-b234451ecd75-0', usage_metadata={'input_tokens': 11, 'output_tokens': 76, 'total_tokens': 87})"
      ]
     },
     "execution_count": 1,
     "metadata": {},
     "output_type": "execute_result"
    }
   ],
   "source": [
    "import os\n",
    "from dotenv import load_dotenv\n",
    "load_dotenv()\n",
    "\n",
    "from langchain_groq import ChatGroq\n",
    "\n",
    "\n",
    "#os.environ[\"OPENAI_API_KEY\"]=os.getenv(\"OPENAI_API_KEY\")\n",
    "os.environ[\"GROQ_API_KEY\"]=os.getenv(\"GROQ_API_KEY\")\n",
    "\n",
    "\n",
    "llm=ChatGroq(model=\"qwen-qwq-32b\")\n",
    "#llm = ChatOpenAI(model=\"gpt-4o\")\n",
    "result=llm.invoke(\"Hello\")\n",
    "result"
   ]
  },
  {
   "cell_type": "code",
   "execution_count": 2,
   "metadata": {},
   "outputs": [],
   "source": [
    "from typing_extensions import TypedDict\n",
    "from langgraph.graph import StateGraph, START, END\n",
    "from IPython.display import Image, display\n",
    "\n",
    "# Graph state\n",
    "class State(TypedDict):\n",
    "    topic: str\n",
    "    characters: str\n",
    "    settings: str\n",
    "    premises: str\n",
    "    story_intro: str"
   ]
  },
  {
   "cell_type": "code",
   "execution_count": 3,
   "metadata": {},
   "outputs": [],
   "source": [
    "# Nodes\n",
    "def generate_characters(state: State):\n",
    "    \"\"\"Generate character descriptions\"\"\"\n",
    "    msg = llm.invoke(f\"Create two character names and brief traits for a story about {state['topic']}\")\n",
    "    return {\"characters\": msg.content}\n",
    "\n",
    "def generate_setting(state: State):\n",
    "    \"\"\"Generate a story setting\"\"\"\n",
    "    msg = llm.invoke(f\"Describe a vivid setting for a story about {state['topic']}\")\n",
    "    return {\"settings\": msg.content}\n",
    "\n",
    "def generate_premise(state: State):\n",
    "    \"\"\"Generate a story premise\"\"\"\n",
    "    msg = llm.invoke(f\"Write a one-sentence plot premise for a story about {state['topic']}\")\n",
    "    return {\"premises\": msg.content}\n",
    "\n",
    "def combine_elements(state: State):\n",
    "    \"\"\"Combine characters, setting, and premise into an intro\"\"\"\n",
    "    msg = llm.invoke(\n",
    "        f\"Write a short story introduction using these elements:\\n\"\n",
    "        f\"Characters: {state['characters']}\\n\"\n",
    "        f\"Setting: {state['settings']}\\n\"\n",
    "        f\"Premise: {state['premises']}\"\n",
    "    )\n",
    "    return {\"story_intro\": msg.content}"
   ]
  },
  {
   "cell_type": "code",
   "execution_count": 4,
   "metadata": {},
   "outputs": [
    {
     "data": {
      "text/plain": [
       "<langgraph.graph.state.StateGraph at 0x1505f32ff80>"
      ]
     },
     "execution_count": 4,
     "metadata": {},
     "output_type": "execute_result"
    }
   ],
   "source": [
    "# Build the graph\n",
    "graph = StateGraph(State)\n",
    "graph.add_node(\"character\", generate_characters)\n",
    "graph.add_node(\"setting\", generate_setting)\n",
    "graph.add_node(\"premise\", generate_premise)\n",
    "graph.add_node(\"combine\", combine_elements)"
   ]
  },
  {
   "cell_type": "code",
   "execution_count": 5,
   "metadata": {},
   "outputs": [
    {
     "data": {
      "image/png": "[encoded data removed]",
      "text/plain": [
       "<IPython.core.display.Image object>"
      ]
     },
     "metadata": {},
     "output_type": "display_data"
    }
   ],
   "source": [
    "# Define edges (parallel execution from START)\n",
    "graph.add_edge(START, \"character\")\n",
    "graph.add_edge(START, \"setting\")\n",
    "graph.add_edge(START, \"premise\")\n",
    "graph.add_edge(\"character\", \"combine\")\n",
    "graph.add_edge(\"setting\", \"combine\")\n",
    "graph.add_edge(\"premise\", \"combine\")\n",
    "graph.add_edge(\"combine\", END)\n",
    "\n",
    "# Compile and run\n",
    "compiled_graph = graph.compile()\n",
    "graph_image = compiled_graph.get_graph().draw_mermaid_png()\n",
    "display(Image(graph_image))"
   ]
  },
  {
   "cell_type": "code",
   "execution_count": 6,
   "metadata": {},
   "outputs": [
    {
     "name": "stdout",
     "output_type": "stream",
     "text": [
      "\n",
      "<think>\n",
      "Okay, the user wants a short story introduction using the provided characters and the premise we came up with. Let me start by recalling the elements: the two main characters, Elara and Silas, and the premise involving a time-traveling pocket watch that erases memories.\n",
      "\n",
      "First, I need to set the scene. The setting from the earlier Chronos Nexus idea could work here, but I should incorporate the pocket watch from the premise. Maybe Elara is in the clock tower, using the pocket watch. Silas is there too, perhaps as the antagonist trying to stop her.\n",
      "\n",
      "Start with Elara in the setting: the dilapidated clock tower with a mix of old and new tech. The pocket watch is the key. Her motivation is to save her sister, which ties into her backstory. She uses the watch, but each jump erases her memory. \n",
      "\n",
      "Silas should oppose her, highlighting the conflict between her personal goal and the ethical concerns. The setting needs vivid descriptions to immerse the reader—maybe the ticking of the clock, the unstable environment. \n",
      "\n",
      "Need to show the memory loss affecting her. Maybe as she activates the watch, she feels a disorienting sensation, and a memory slips away. Silas confronts her, arguing about the risks. \n",
      "\n",
      "Dialogue is crucial to establish their conflict. Elara's determination vs. Silas's caution. The ticking of the clock becomes a countdown, adding urgency. \n",
      "\n",
      "End the intro on a cliffhanger: the watch's mechanism starts to malfunction, or a paradox begins to unravel, forcing them into action. Make sure to weave in the key elements from the premise and the character traits provided earlier.\n",
      "\n",
      "Check for vivid imagery, internal conflict, external stakes. Ensure the memory loss is a present danger. Maybe she can't remember why she needs to stop the clock? No, better to show the immediate effect as she uses it. \n",
      "\n",
      "Okay, structure: Start with Elara in the tower, using the watch, describe the setting, introduce Silas's entrance, their confrontation, and the building tension. End with a pivotal moment that sets the story in motion.\n",
      "</think>\n",
      "\n",
      "**Introduction:**  \n",
      "\n",
      "The pocket watch burned in Elara Voss’s palm, its brass surface etched with symbols that shifted like liquid. She stood in the rusted bowels of the **Chronos Spire**, a crumbling Gothic tower that pierced the clouds like a splinter of time itself. The air tasted of ozone and regret, and the walls hummed with the echoes of centuries—a child’s laughter from 1894, the distant boom of atomic bombs in 2087, and the siren song of a city that would never exist.  \n",
      "\n",
      "Her sister’s face flickered in her mind, as it always did before the vertigo hit. The watch’s gears spun, and the room dissolved.  \n",
      "\n",
      "When she stumbled back into the tower, her hands were empty, her head pounding. The watch’s last jump had stolen another memory: *the year*, *the date*, the name of the disaster she was racing to stop. Now she clutched a new clue—a faded photograph of a man in a 1940s trench coat, standing where the spire’s foundation had once been. Her own face stared back at her from the edges, a ghost in her own past.  \n",
      "\n",
      "A voice cut through the chaos. “This isn’t your father’s clockwork, Voss.”  \n",
      "\n",
      "Captain Silas Meriwether emerged from the shadows, his cybernetic eye—a relic from a war he’d never speak of—glowing with a chrono-scanner’s readout. His hand hovered over the plasma pistol at his hip. “You’ve fractured the timestream five times. The Nexus is collapsing. You’ll unravel the present just to salvage a *memory*.”  \n",
      "\n",
      "Elara’s fingers brushed the scar on her wrist, a scar that shouldn’t exist. “You think I don’t know that?” she snapped, the photograph trembling. The spire itself shuddered, a geyser of green light bursting from the vault below.  \n",
      "\n",
      "Somewhere, a clock began to tick backward.  \n",
      "\n",
      "Above them, the shattered pocket watch materialized in midair, its hands spinning in two directions at once. The chamber’s walls flickered between eras—a battlefield, a ballroom, a burning city.  \n",
      "\n",
      "“Your sister’s death wasn’t an accident,” Silas said softly. “It was a *message*.”  \n",
      "\n",
      "The watch pulsed, and Elara’s vision blurred. Memories of a different life flooded her—*a lab, a scream, a lever she’d pulled too late.* But the image dissolved, leaving only the weight of the photo and the itch in her bones. The tower groaned, the ground splitting to reveal a vortex of light and shadow.  \n",
      "\n",
      "“Then show me,” she hissed, stepping toward the rift.  \n",
      "\n",
      "Silas lunged, but it was too late. The watch swallowed her, and as she vanished, the chamber’s walls flickered to a new epoch: a world where the spire was gone, replaced by a monument bearing *her* name.  \n",
      "\n",
      "The clock tower’s chimes rang out—not for the time she knew, but the one she’d just destroyed.  \n",
      "\n",
      "---  \n",
      "**Why this works:**  \n",
      "- **Conflict:** Elara’s desperation vs. Silas’s pragmatism, the pocket watch’s cost (memory loss).  \n",
      "- **Setting:** The Spire’s shifting reality mirrors the characters’ fractured psyches and the timeline’s instability.  \n",
      "- **Stakes:** The premise’s core—memory loss due to time jumps—drives the tension, while the final image hints at a tragic paradox.  \n",
      "- **Hook:** The pocket watch’s appearance at the end in the altered timeline suggests the tragedy Elara is racing to prevent *caused* the tragedy, setting up a loop.  \n",
      "\n",
      "The intro balances action, mystery, and emotional stakes, with the setting itself acting as a character—a sentient, unstable entity that both aids and punishes those who tamper with it.\n"
     ]
    }
   ],
   "source": [
    "state = {\"topic\": \"time travel\"}\n",
    "result = compiled_graph.invoke(state)\n",
    "print(result[\"story_intro\"])"
   ]
  },
  {
   "cell_type": "markdown",
   "id": "89d16814",
   "metadata": {},
   "source": [
    "#### Key Benefits\n",
    "- Speed: Reduces total execution time by running tasks concurrently.\n",
    "\n",
    "- Scalability: Handles larger workflows efficiently.\n",
    "\n",
    "- Modularity: Keeps the graph structure clean and reusable.\n",
    "\n",
    "#### Key Takeaways\n",
    "- When to Parallelize: Use it for independent tasks (e.g., generating multiple outputs, checking separate inputs).\n",
    "\n",
    "- Merging: Downstream nodes can aggregate parallel results.\n",
    "\n",
    "- LangGraph Support: The framework naturally supports this by waiting for all required inputs before proceeding.\n",
    "\n"
   ]
  },
  {
   "cell_type": "code",
   "execution_count": null,
   "metadata": {},
   "outputs": [],
   "source": []
  },
  {
   "cell_type": "code",
   "execution_count": null,
   "metadata": {},
   "outputs": [],
   "source": []
  },
  {
   "cell_type": "code",
   "execution_count": null,
   "id": "4f0ddbd6",
   "metadata": {},
   "outputs": [],
   "source": []
  }
 ],
 "metadata": {
  "kernelspec": {
   "display_name": "Python 3",
   "language": "python",
   "name": "python3"
  },
  "language_info": {
   "codemirror_mode": {
    "name": "ipython",
    "version": 3
   },
   "file_extension": ".py",
   "mimetype": "text/x-python",
   "name": "python",
   "nbconvert_exporter": "python",
   "pygments_lexer": "ipython3",
   "version": "3.12.4"
  }
 },
 "nbformat": 4,
 "nbformat_minor": 5
}
